{
 "cells": [
  {
   "cell_type": "code",
   "execution_count": 2,
   "id": "a3e4335d-86ea-4aaa-aac5-458c5dbd53bd",
   "metadata": {
    "tags": []
   },
   "outputs": [],
   "source": [
    "import pandas as pd"
   ]
  },
  {
   "cell_type": "code",
   "execution_count": 8,
   "id": "ba1ee108-3ace-470d-9288-fa6817052ac6",
   "metadata": {},
   "outputs": [],
   "source": [
    "example = pd.read_csv(\"train.csv\")"
   ]
  },
  {
   "cell_type": "code",
   "execution_count": 14,
   "id": "974ad26a-834c-4124-8dc6-5a358b178fdc",
   "metadata": {},
   "outputs": [],
   "source": [
    "example.sample(n=30000).to_csv(\"simpsonsvqa.csv\", index=False)"
   ]
  },
  {
   "cell_type": "code",
   "execution_count": 49,
   "id": "f28051ec-41dd-46fb-9b9f-6a6b0d5c30a7",
   "metadata": {},
   "outputs": [
    {
     "data": {
      "text/plain": [
       "314013"
      ]
     },
     "execution_count": 49,
     "metadata": {},
     "output_type": "execute_result"
    }
   ],
   "source": [
    "len(all)*3"
   ]
  },
  {
   "cell_type": "code",
   "execution_count": 50,
   "id": "4d8a5dc5-1bdb-4348-bdee-150d56d62465",
   "metadata": {},
   "outputs": [],
   "source": [
    "worker = pd.read_csv(\"User_2180562_workers.csv\")"
   ]
  },
  {
   "cell_type": "code",
   "execution_count": 51,
   "id": "ee9bea8d-65de-4d2e-9262-eb121c9d148e",
   "metadata": {},
   "outputs": [
    {
     "data": {
      "text/plain": [
       "1635"
      ]
     },
     "execution_count": 51,
     "metadata": {},
     "output_type": "execute_result"
    }
   ],
   "source": [
    "len(worker )"
   ]
  },
  {
   "cell_type": "code",
   "execution_count": null,
   "id": "bcde14d2-d4ff-4f54-b7a3-e8d7ca8ec47b",
   "metadata": {},
   "outputs": [],
   "source": []
  }
 ],
 "metadata": {
  "kernelspec": {
   "display_name": "Python 3 (ipykernel)",
   "language": "python",
   "name": "python3"
  },
  "language_info": {
   "codemirror_mode": {
    "name": "ipython",
    "version": 3
   },
   "file_extension": ".py",
   "mimetype": "text/x-python",
   "name": "python",
   "nbconvert_exporter": "python",
   "pygments_lexer": "ipython3",
   "version": "3.9.16"
  }
 },
 "nbformat": 4,
 "nbformat_minor": 5
}
