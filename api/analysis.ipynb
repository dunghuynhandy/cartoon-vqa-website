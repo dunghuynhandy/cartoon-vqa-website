{
 "cells": [
  {
   "cell_type": "code",
   "execution_count": 24,
   "id": "a3e4335d-86ea-4aaa-aac5-458c5dbd53bd",
   "metadata": {
    "tags": []
   },
   "outputs": [],
   "source": [
    "import pandas as pd"
   ]
  },
  {
   "cell_type": "code",
   "execution_count": 33,
   "id": "ba1ee108-3ace-470d-9288-fa6817052ac6",
   "metadata": {},
   "outputs": [],
   "source": [
    "train = pd.read_csv(\"train.csv\")\n",
    "val = pd.read_csv(\"val.csv\")\n",
    "test = pd.read_csv(\"test.csv\")\n",
    "all = pd.concat([train, val, test])\n",
    "all = all.reset_index(drop=True)"
   ]
  },
  {
   "cell_type": "code",
   "execution_count": 47,
   "id": "974ad26a-834c-4124-8dc6-5a358b178fdc",
   "metadata": {},
   "outputs": [
    {
     "data": {
      "text/plain": [
       "img_path\n",
       "S28/S28E17-16851.jpg    11\n",
       "S29/S29E15-06401.jpg    10\n",
       "S27/S27E07-03751.jpg    10\n",
       "S30/S30E08-16051.jpg    10\n",
       "S28/S28E03-18901.jpg    10\n",
       "                        ..\n",
       "S33/S33E14-06651.jpg     1\n",
       "S33/S33E14-06501.jpg     1\n",
       "S33/S33E03-03401.jpg     1\n",
       "S33/S33E10-07501.jpg     1\n",
       "S27/S27E11-02001.jpg     1\n",
       "Name: count, Length: 23277, dtype: int64"
      ]
     },
     "execution_count": 47,
     "metadata": {},
     "output_type": "execute_result"
    }
   ],
   "source": [
    "all[\"img_path\"].value_counts()"
   ]
  },
  {
   "cell_type": "code",
   "execution_count": 49,
   "id": "f28051ec-41dd-46fb-9b9f-6a6b0d5c30a7",
   "metadata": {},
   "outputs": [
    {
     "data": {
      "text/plain": [
       "314013"
      ]
     },
     "execution_count": 49,
     "metadata": {},
     "output_type": "execute_result"
    }
   ],
   "source": [
    "len(all)*3"
   ]
  },
  {
   "cell_type": "code",
   "execution_count": 50,
   "id": "4d8a5dc5-1bdb-4348-bdee-150d56d62465",
   "metadata": {},
   "outputs": [],
   "source": [
    "worker = pd.read_csv(\"User_2180562_workers.csv\")"
   ]
  },
  {
   "cell_type": "code",
   "execution_count": 51,
   "id": "ee9bea8d-65de-4d2e-9262-eb121c9d148e",
   "metadata": {},
   "outputs": [
    {
     "data": {
      "text/plain": [
       "1635"
      ]
     },
     "execution_count": 51,
     "metadata": {},
     "output_type": "execute_result"
    }
   ],
   "source": [
    "len(worker )"
   ]
  },
  {
   "cell_type": "code",
   "execution_count": null,
   "id": "bcde14d2-d4ff-4f54-b7a3-e8d7ca8ec47b",
   "metadata": {},
   "outputs": [],
   "source": []
  }
 ],
 "metadata": {
  "kernelspec": {
   "display_name": "Python 3 (ipykernel)",
   "language": "python",
   "name": "python3"
  },
  "language_info": {
   "codemirror_mode": {
    "name": "ipython",
    "version": 3
   },
   "file_extension": ".py",
   "mimetype": "text/x-python",
   "name": "python",
   "nbconvert_exporter": "python",
   "pygments_lexer": "ipython3",
   "version": "3.9.16"
  }
 },
 "nbformat": 4,
 "nbformat_minor": 5
}
