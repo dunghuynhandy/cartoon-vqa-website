{
 "cells": [
  {
   "cell_type": "code",
   "execution_count": 51,
   "id": "ee9bea8d-65de-4d2e-9262-eb121c9d148e",
   "metadata": {},
   "outputs": [
    {
     "data": {
      "text/plain": [
       "1635"
      ]
     },
     "execution_count": 51,
     "metadata": {},
     "output_type": "execute_result"
    }
   ],
   "source": [
    "from sqlalchemy import create_engine"
   ]
  },
  {
   "cell_type": "code",
   "execution_count": 1,
   "id": "bcde14d2-d4ff-4f54-b7a3-e8d7ca8ec47b",
   "metadata": {},
   "outputs": [],
   "source": [
    "import pandas as pd"
   ]
  },
  {
   "cell_type": "code",
   "execution_count": 3,
   "id": "b5c23ae1",
   "metadata": {},
   "outputs": [],
   "source": [
    "train = pd.read_csv(\"train.csv\")\n",
    "test = pd.read_csv(\"test.csv\")\n",
    "val = pd.read_csv(\"val.csv\")"
   ]
  },
  {
   "cell_type": "code",
   "execution_count": 6,
   "id": "5a83f43d",
   "metadata": {},
   "outputs": [
    {
     "data": {
      "text/plain": [
       "23269"
      ]
     },
     "execution_count": 6,
     "metadata": {},
     "output_type": "execute_result"
    }
   ],
   "source": [
    "len(set(train[\"img_path\"])) + len(set(val[\"img_path\"])) + len(set(test[\"img_path\"]))"
   ]
  },
  {
   "cell_type": "code",
   "execution_count": 7,
   "id": "635e3a76",
   "metadata": {},
   "outputs": [
    {
     "data": {
      "text/plain": [
       "13961"
      ]
     },
     "execution_count": 7,
     "metadata": {},
     "output_type": "execute_result"
    }
   ],
   "source": [
    "len()"
   ]
  },
  {
   "cell_type": "code",
   "execution_count": 9,
   "id": "9d3ea13e",
   "metadata": {},
   "outputs": [
    {
     "data": {
      "text/plain": [
       "77991"
      ]
     },
     "execution_count": 9,
     "metadata": {},
     "output_type": "execute_result"
    }
   ],
   "source": [
    "len(train)"
   ]
  },
  {
   "cell_type": "code",
   "execution_count": 13,
   "id": "a7e2aa7b",
   "metadata": {},
   "outputs": [
    {
     "data": {
      "text/plain": [
       "5818"
      ]
     },
     "execution_count": 13,
     "metadata": {},
     "output_type": "execute_result"
    }
   ],
   "source": [
    "len(set(test[\"img_path\"]))"
   ]
  },
  {
   "cell_type": "code",
   "execution_count": 14,
   "id": "deaac607",
   "metadata": {},
   "outputs": [
    {
     "data": {
      "text/plain": [
       "103738"
      ]
     },
     "execution_count": 14,
     "metadata": {},
     "output_type": "execute_result"
    }
   ],
   "source": [
    "len(val)+len(test)+len(train)"
   ]
  },
  {
   "cell_type": "code",
   "execution_count": 12,
   "id": "755ba840",
   "metadata": {},
   "outputs": [
    {
     "data": {
      "text/plain": [
       "13195"
      ]
     },
     "execution_count": 12,
     "metadata": {},
     "output_type": "execute_result"
    }
   ],
   "source": []
  },
  {
   "cell_type": "code",
   "execution_count": null,
   "id": "c0c83f01",
   "metadata": {},
   "outputs": [],
   "source": []
  }
 ],
 "metadata": {
  "kernelspec": {
   "display_name": "Python 3 (ipykernel)",
   "language": "python",
   "name": "python3"
  },
  "language_info": {
   "codemirror_mode": {
    "name": "ipython",
    "version": 3
   },
   "file_extension": ".py",
   "mimetype": "text/x-python",
   "name": "python",
   "nbconvert_exporter": "python",
   "pygments_lexer": "ipython3",
   "version": "3.9.16"
  }
 },
 "nbformat": 4,
 "nbformat_minor": 5
}
