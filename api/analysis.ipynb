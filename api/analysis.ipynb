{
 "cells": [
  {
   "cell_type": "code",
   "execution_count": 1,
   "id": "a3e4335d-86ea-4aaa-aac5-458c5dbd53bd",
   "metadata": {
    "tags": []
   },
   "outputs": [],
   "source": [
    "import pandas as pd"
   ]
  },
  {
   "cell_type": "code",
   "execution_count": 2,
   "id": "c02431e6-7d41-4eb1-af98-9468551b50cc",
   "metadata": {
    "tags": []
   },
   "outputs": [],
   "source": [
    "value_filter = \"all\"\n",
    "number_filter = 3\n",
    "subtype = \"all\""
   ]
  },
  {
   "cell_type": "code",
   "execution_count": 3,
   "id": "3f6f47a3-c039-4925-aa3d-02e82080b0fd",
   "metadata": {
    "tags": []
   },
   "outputs": [],
   "source": [
    "value_filter = value_filter.lower()\n",
    "number_filter = int(number_filter)\n",
    "subtype = subtype.lower()"
   ]
  },
  {
   "cell_type": "code",
   "execution_count": 4,
   "id": "02509239-85dd-4e50-af0e-6ec2ba765834",
   "metadata": {
    "tags": []
   },
   "outputs": [],
   "source": [
    "def process_node(node):\n",
    "    if 'children' in node:\n",
    "        processed_children = []\n",
    "        other_value = 0\n",
    "\n",
    "        for child in node['children']:\n",
    "            processed_child = process_node(child)\n",
    "            if processed_child['value'] < 400:\n",
    "                other_value += processed_child['value']\n",
    "            else:\n",
    "                processed_children.append(processed_child)\n",
    "\n",
    "        if other_value > 0:\n",
    "            processed_children.append({'name': '', 'value': other_value, 'children': [{'name': '', 'value': other_value, 'fill': \"transparent\"}], 'fill': \"transparent\"})\n",
    "\n",
    "        node['children'] = processed_children\n",
    "\n",
    "    return node\n",
    "def nest_pie_data(counts):\n",
    "    # Create the nested dictionary\n",
    "    result = {'name': 'root', 'children': []}\n",
    "    for index, count in counts.items():\n",
    "        first_word, second_word, third_word, fourth_word, fifth_word = index\n",
    "\n",
    "        # Find the corresponding branch or create a new one\n",
    "        first_word_branch = next((child for child in result['children'] if child['name'] == first_word), None)\n",
    "        if first_word_branch is None:\n",
    "            first_word_branch = {'name': first_word, 'value': 0, 'children': []}\n",
    "            result['children'].append(first_word_branch)\n",
    "\n",
    "        second_word_branch = next((child for child in first_word_branch['children'] if child['name'] == second_word), None)\n",
    "        if second_word_branch is None:\n",
    "            second_word_branch = {'name': second_word, 'value': 0, 'children': []}\n",
    "            first_word_branch['children'].append(second_word_branch)\n",
    "\n",
    "        third_word_branch = next((child for child in second_word_branch['children'] if child['name'] == third_word), None)\n",
    "        if third_word_branch is None:\n",
    "            third_word_branch = {'name': third_word, 'value': 0, 'children': []}\n",
    "            second_word_branch['children'].append(third_word_branch)\n",
    "\n",
    "        fourth_word_branch = next((child for child in third_word_branch['children'] if child['name'] == fourth_word), None)\n",
    "        if fourth_word_branch is None:\n",
    "            fourth_word_branch = {'name': fourth_word, 'value': 0, 'children': []}\n",
    "            third_word_branch['children'].append(fourth_word_branch)\n",
    "\n",
    "        # Add the final leaf node with the count value\n",
    "        leaf_node = {'name': fifth_word, 'value': count}\n",
    "        fourth_word_branch['children'].append(leaf_node)\n",
    "\n",
    "        # Update the value counts along the branches\n",
    "        first_word_branch['value'] += count\n",
    "        second_word_branch['value'] += count\n",
    "        third_word_branch['value'] += count\n",
    "        fourth_word_branch['value'] += count\n",
    "\n",
    "    return process_node(result)[\"children\"]\n",
    "\n",
    "def add_color(result):\n",
    "    i = 0\n",
    "    level_1_colors = [\"#E91E63\", \"#03A9F4\", \"#8BC34A\", \"#FF5722\", \"#9C27B0\", \"#009688\", \"#FFEB3B\", \"#9C27B0\", \"#3F51B5\", \"#FFCDD2\"]\n",
    "    level_2_colors = [\"#EC407A\", \"#29B6F6\", \"#9CCC65\", \"#FF7043\", \"#AB47BC\", \"#26A69A\", \"#FFEE58\", \"#BA68C8\", \"#5C6BC0\", \"EF9A9A\"]\n",
    "    level_3_colors = [\"#F06292\", \"#4FC3F7\", \"#AED581\", \"#FF8A65\", \"#BA68C8\", \"#4DB6AC\", \"#FFF176\", \"#CE93D8\", \"#7986CB\", \"#E57373\"]\n",
    "    level_4_colors = [\"#F48FB1\", \"#81D4FA\", \"#C5E1A5\", \"#FFAB91\", \"#CE93D8\", \"#80CBC4\", \"#FFF59D\", \"#CE93D8\", \"#9FA8DA\", \"#E57373\"]\n",
    "    level_5_colors = [\"#F8BBD0\", \"#B3E5FC\", \"#DCEDC8\", \"#FFCCBC\", \"#E1BEE7\", \"#B2DFDB\", \"#FFF9C4\", \"#E1BEE7\", \"#C5CAE9\", \"#F44336 \"]\n",
    "    #LEVEL 1\n",
    "    for level1 in range(len(result)):\n",
    "        if result[level1][\"name\"] != \"\":\n",
    "            result[level1][\"fill\"] = level_1_colors[i]\n",
    "        \n",
    "        #LEVEL 2\n",
    "        for level2 in range(len(result[level1][\"children\"])):\n",
    "            if result[level1][\"children\"][level2][\"name\"] != \"\":\n",
    "                result[level1][\"children\"][level2][\"fill\"] = level_2_colors[i]\n",
    "\n",
    "            if \"children\" not in result[level1][\"children\"][level2]:\n",
    "                result[level1][\"children\"][level2][\"children\"] = [{\"name\":\"\", \"value\": result[level1][\"children\"][-1][\"value\"], 'fill': \"transparent\"}]\n",
    "            \n",
    "            #LEVEL 3\n",
    "            for level3 in range(len(result[level1][\"children\"][level2][\"children\"])):\n",
    "                if result[level1][\"children\"][level2][\"children\"][level3][\"name\"] != \"\":\n",
    "                    result[level1][\"children\"][level2][\"children\"][level3][\"fill\"] = level_3_colors[i]\n",
    "\n",
    "                if  \"children\" not in result[level1][\"children\"][level2][\"children\"][level3]:\n",
    "                    result[level1][\"children\"][level2][\"children\"][level3][\"children\"] = [{\"name\":\"\", \"value\": result[level1][\"children\"]\n",
    "                                                                                           [level2][\"children\"][-1][\"value\"],\n",
    "                                                                                           'fill': \"transparent\"}]\n",
    "                \n",
    "                none_value_4 = 0\n",
    "                check_empty_4 = 0\n",
    "                #LEVEL 4\n",
    "                for level4 in range(len(result[level1][\"children\"][level2][\"children\"][level3][\"children\"])):\n",
    "                    ##############################################################################################################\n",
    "                    if result[level1][\"children\"][level2][\"children\"][level3][\"children\"][level4][\"name\"] == \"none\":\n",
    "                        none_value_4 = result[level1][\"children\"][level2][\"children\"][level3][\"children\"][level4][\"value\"]\n",
    "                        result[level1][\"children\"][level2][\"children\"][level3][\"children\"][level4][\"fill\"] = \"drop\"\n",
    "                    \n",
    "                    elif result[level1][\"children\"][level2][\"children\"][level3][\"children\"][level4][\"name\"] == \"\":\n",
    "                        check_empty_4 = 1\n",
    "                        result[level1][\"children\"][level2][\"children\"][level3][\"children\"][level4][\"fill\"] = \"transparent\"\n",
    "                        \n",
    "                        if none_value_4 != 0:\n",
    "                            result[level1][\"children\"][level2][\"children\"][level3][\"children\"][level4][\"value\"] += none_value_4\n",
    "                    else:\n",
    "                        result[level1][\"children\"][level2][\"children\"][level3][\"children\"][level4][\"fill\"] = level_4_colors[i]\n",
    "                    ##############################################################################################################\n",
    "                    \n",
    "                    \n",
    "                    \n",
    "                    if  \"children\" not in result[level1][\"children\"][level2][\"children\"][level3][\"children\"][level4]:\n",
    "                        result[level1][\"children\"][level2][\"children\"][level3][\"children\"][level4][\"children\"] = [{\"name\":\"\", \"value\": result[level1][\"children\"]\n",
    "                                                                                           [level2][\"children\"][level3][\"children\"][-1][\"value\"],\n",
    "                                                                                           'fill': \"transparent\"}]\n",
    "                        \n",
    "                    none_value_5 = 0\n",
    "                    check_empty_5 = 0\n",
    "                    for level5 in range(len(result[level1][\"children\"][level2][\"children\"][level3][\"children\"][level4][\"children\"])):\n",
    "                        if result[level1][\"children\"][level2][\"children\"][level3][\"children\"][level4][\"children\"][level5][\"name\"] == \"none\":\n",
    "                            none_value_5 = result[level1][\"children\"][level2][\"children\"][level3][\"children\"][level4][\"children\"][level5][\"value\"]\n",
    "                        \n",
    "                        elif result[level1][\"children\"][level2][\"children\"][level3][\"children\"][level4][\"children\"][level5][\"name\"] == \"\":\n",
    "                            check_empty_5 = 1\n",
    "                            result[level1][\"children\"][level2][\"children\"][level3][\"children\"][level4][\"children\"][level5][\"fill\"] = \"transparent\"\n",
    "                            if none_value_5 != 0:\n",
    "                                result[level1][\"children\"][level2][\"children\"][level3][\"children\"][level4][\"children\"][level5][\"value\"] += none_value_5\n",
    "                        else:\n",
    "                            result[level1][\"children\"][level2][\"children\"][level3][\"children\"][level4][\"children\"][level5][\"fill\"] = level_5_colors[i]\n",
    "                    if none_value_5 != 0:\n",
    "                        if check_empty_5 == 0:\n",
    "                            result[level1][\"children\"][level2][\"children\"][level3][\"children\"][level4][\"children\"].append({\"name\": \"\", \"value\": none_value_5, 'fill': \"transparent\"})\n",
    "                        result[level1][\"children\"][level2][\"children\"][level3][\"children\"][level4][\"children\"] = [child  for child in result[level1][\"children\"][level2][\"children\"][level3][\"children\"][level4][\"children\"] if child[\"name\"] != \"none\"]\n",
    "                if none_value_4 != 0:\n",
    "                    result[level1][\"children\"][level2][\"children\"][level3][\"children\"] = [child  for child in result[level1][\"children\"][level2][\"children\"][level3][\"children\"] if child[\"name\"] != \"none\"]\n",
    "                \n",
    "        \n",
    "        i+=1\n",
    "    return result"
   ]
  },
  {
   "cell_type": "code",
   "execution_count": 5,
   "id": "7b19daed-5094-4965-878a-fc3fbed2967e",
   "metadata": {
    "tags": []
   },
   "outputs": [],
   "source": [
    "def stack_bar_chart(df, column_1, column_2):\n",
    "    \n",
    "    total_list1 = df[column_1].value_counts()\n",
    "    total_list1 = total_list1.reset_index()\n",
    "    total_list1.columns = [\"name\", \"value\"]\n",
    "    \n",
    "    total_list = {}\n",
    "    for i in range(len(total_list1)):\n",
    "        name, value = total_list1.iloc[i]\n",
    "        total_list[name] = value\n",
    "    \n",
    "    qa_counts = df[[column_1, column_2]].groupby(column_1)[column_2].value_counts().reset_index(name='count')\n",
    "    qa_result = []\n",
    "    \n",
    "    for first_word in qa_counts[column_1].unique():\n",
    "        temp_dict = {'name': first_word}\n",
    "        for _, row in qa_counts[qa_counts[column_1] == first_word].iterrows():\n",
    "            temp_dict[row[column_2]] = row['count']\n",
    "        qa_result.append(temp_dict)\n",
    "        \n",
    "    new_result = []\n",
    "    answer_uniques = [\"other\"]\n",
    "    for qa in qa_result:\n",
    "        percent = 0\n",
    "        total = total_list[qa['name']]\n",
    "        item = {'name': qa['name']}\n",
    "        keys = list(qa.keys())\n",
    "        keys.remove('name')\n",
    "        for answer in keys:\n",
    "            percent_i = qa[answer]/total*100\n",
    "            if percent_i > 1 and (percent+percent_i) <= 100:\n",
    "                answer_uniques.append(answer)\n",
    "                item[answer] = round(percent_i)\n",
    "                percent += round(percent_i)\n",
    "            elif percent_i > 1 and (percent+percent_i) > 100:\n",
    "                answer_uniques.append(answer)\n",
    "                percent_i = round(percent_i) - (percent + round(percent_i) - 100)\n",
    "                item[answer] = percent_i\n",
    "                percent += percent_i\n",
    "        if percent < 100:\n",
    "            item[\"other\"] = 100 - percent\n",
    "            \n",
    "        new_result.append(item)\n",
    "    answer_uniques = set(answer_uniques)\n",
    "    for i in range(len(new_result)):\n",
    "        keys = list(new_result[i].keys())\n",
    "        keys.remove('name')\n",
    "        for answer in answer_uniques:\n",
    "            if answer not in keys:\n",
    "                new_result[i][answer] = 0\n",
    "        \n",
    "    return new_result"
   ]
  },
  {
   "cell_type": "code",
   "execution_count": 6,
   "id": "0339f460-0e1f-46eb-a6bf-bb05e56a4524",
   "metadata": {
    "tags": []
   },
   "outputs": [],
   "source": [
    "if subtype == \"all\":\n",
    "    train = pd.read_csv(\"train.csv\")\n",
    "    val = pd.read_csv(\"val.csv\")\n",
    "    data = pd.concat([train, val])\n",
    "    data  = data.reset_index(drop=True)\n",
    "elif subtype == \"train\":\n",
    "    data = pd.read_csv(\"train.csv\")\n",
    "else:\n",
    "    data = pd.read_csv(\"val.csv\")\n",
    "data[\"all\"] = data[[\"incorrect\", \"partially incorrect\", \"ambiguous\", \"partially correct\", \"correct\"]].max(axis=1)\n",
    "data = data[data[value_filter] >= number_filter]\n",
    "\n",
    "categories = [\"incorrect\", \"partially incorrect\", \"ambiguous\", \"partially correct\", \"correct\"]\n",
    "colors_dict = {\n",
    "    \"correct & partially correct\": \"#0E6251\",\n",
    "    \"correct\": \"#28B463\",\n",
    "    \"partially correct\": \"#82E0AA\",\n",
    "    \"ambiguous\": \"#512E5F\",\n",
    "    \"partially incorrect\": \"#F39C12\",\n",
    "    \"incorrect\": \"#E74C3C\",\n",
    "    \"incorrect & partially incorrect\":\"#B03A2E\"\n",
    "}\n",
    "\n",
    "category_counts = data[categories].sum().reset_index()\n",
    "category_counts.columns = [\"name\", \"value\"]\n",
    "category_counts[\"percent\"] = round(category_counts[\"value\"] /category_counts[\"value\"].sum()*100)\n",
    "category_counts[\"fill\"] = category_counts[\"name\"].map(colors_dict)\n",
    "\n",
    "number_worker_keys = [\"Total\", \"1 Worker\", \"2 Workers\", \"3 Workers\"]\n",
    "cumulative_results = []\n",
    "values_list =   list(colors_dict.keys())\n",
    "for number_worker in range(3 ,-1, -1):\n",
    "    item = {}\n",
    "    for value in values_list:\n",
    "        item[\"name\"] = number_worker_keys[number_worker]\n",
    "        count = len(data[data[value]>=number_worker])\n",
    "        item[value] = int(count)\n",
    "    cumulative_results.append(item)\n",
    "\n",
    "answer_list = data[\"answer\"].value_counts()\n",
    "answer_list = answer_list.reset_index()\n",
    "answer_list.columns = [\"name\", \"value\"]\n",
    "answer_list = answer_list[:30] \n",
    "answer_list = answer_list.to_dict(\"records\")\n",
    "\n",
    "\n",
    "nest_data = data.groupby(['firstword', 'secondword', 'thirdword', 'fourword'])['fifword'].value_counts()\n",
    "result = nest_pie_data(nest_data)\n",
    "result = add_color(result)\n",
    "\n",
    "\n",
    "first_word = data[\"firstword\"].value_counts()\n",
    "first_word = first_word.reset_index()\n",
    "first_word.columns = [\"name\", \"value\"]\n",
    "first_word[\"percent\"] = round(first_word[\"value\"]/len(data)*100, 2)\n"
   ]
  },
  {
   "cell_type": "code",
   "execution_count": 7,
   "id": "f855f534-6399-4fd4-9afd-da629c396209",
   "metadata": {
    "tags": []
   },
   "outputs": [],
   "source": [
    "nest_data = data.groupby(['firstword', 'secondword', 'thirdword', 'fourword'])['fifword'].value_counts()\n",
    "result = nest_pie_data(nest_data)\n",
    "result = add_color(result)"
   ]
  },
  {
   "cell_type": "code",
   "execution_count": 8,
   "id": "87e6ff9c-4624-430d-9975-35c9d3a8b3b0",
   "metadata": {
    "tags": []
   },
   "outputs": [],
   "source": [
    "first_word = data[\"firstword\"].value_counts()\n",
    "first_word = first_word.reset_index()\n",
    "first_word.columns = [\"name\", \"value\"]\n",
    "first_word[\"percent\"] = round(first_word[\"value\"]/len(data)*100, 2)"
   ]
  },
  {
   "cell_type": "code",
   "execution_count": 9,
   "id": "2822924d-69b9-4167-8103-3ee163c89a10",
   "metadata": {},
   "outputs": [],
   "source": [
    "qa_result = stack_bar_chart(data, 'firstword', \"answer\")\n",
    "QAkeys = list(qa_result[0].keys())\n",
    "QAkeys.remove(\"name\")"
   ]
  },
  {
   "cell_type": "code",
   "execution_count": 45,
   "id": "29e19264-f9e1-42ea-9285-a7c1527b04b9",
   "metadata": {
    "tags": []
   },
   "outputs": [],
   "source": []
  },
  {
   "cell_type": "code",
   "execution_count": 46,
   "id": "0a912831-613c-4b69-aa89-bf7e764e692f",
   "metadata": {},
   "outputs": [],
   "source": [
    "\n",
    "\n"
   ]
  },
  {
   "cell_type": "code",
   "execution_count": 47,
   "id": "dbbe52f2-2afa-4ae3-99f2-405d6c96f5c1",
   "metadata": {
    "tags": []
   },
   "outputs": [
    {
     "data": {
      "text/plain": [
       "[{'text': 'the', 'value': 36237},\n",
       " {'text': 'is', 'value': 25171},\n",
       " {'text': 'what', 'value': 21094},\n",
       " {'text': 'are', 'value': 11769},\n",
       " {'text': 'color', 'value': 11263},\n",
       " {'text': 'there', 'value': 9644},\n",
       " {'text': 'in', 'value': 8038},\n",
       " {'text': 'man', 'value': 6462},\n",
       " {'text': 'people', 'value': 6323},\n",
       " {'text': 'many', 'value': 6322},\n",
       " {'text': 'how', 'value': 6308},\n",
       " {'text': 'on', 'value': 5140},\n",
       " {'text': 'of', 'value': 4236},\n",
       " {'text': 'person', 'value': 2783},\n",
       " {'text': 'image', 'value': 2554},\n",
       " {'text': 'doing', 'value': 2110},\n",
       " {'text': 'holding', 'value': 1928},\n",
       " {'text': 'shirt', 'value': 1923},\n",
       " {'text': 'woman', 'value': 1897},\n",
       " {'text': 'sitting', 'value': 1855}]"
      ]
     },
     "execution_count": 47,
     "metadata": {},
     "output_type": "execute_result"
    }
   ],
   "source": [
    "question_bag "
   ]
  },
  {
   "cell_type": "code",
   "execution_count": 44,
   "id": "44f4ec62-2bee-4ddb-a805-9fa315b3c8e8",
   "metadata": {
    "tags": []
   },
   "outputs": [
    {
     "data": {
      "text/plain": [
       "[{'text': 'the', 'value': 36237},\n",
       " {'text': 'is', 'value': 25171},\n",
       " {'text': 'what', 'value': 21094},\n",
       " {'text': 'are', 'value': 11769},\n",
       " {'text': 'color', 'value': 11263},\n",
       " {'text': 'there', 'value': 9644},\n",
       " {'text': 'in', 'value': 8038},\n",
       " {'text': 'man', 'value': 6462},\n",
       " {'text': 'people', 'value': 6323},\n",
       " {'text': 'many', 'value': 6322},\n",
       " {'text': 'how', 'value': 6308},\n",
       " {'text': 'on', 'value': 5140},\n",
       " {'text': 'of', 'value': 4236},\n",
       " {'text': 'person', 'value': 2783},\n",
       " {'text': 'image', 'value': 2554},\n",
       " {'text': 'doing', 'value': 2110},\n",
       " {'text': 'holding', 'value': 1928},\n",
       " {'text': 'shirt', 'value': 1923},\n",
       " {'text': 'woman', 'value': 1897},\n",
       " {'text': 'sitting', 'value': 1855}]"
      ]
     },
     "execution_count": 44,
     "metadata": {},
     "output_type": "execute_result"
    }
   ],
   "source": [
    "result"
   ]
  },
  {
   "cell_type": "code",
   "execution_count": 110,
   "id": "840b9af4-ec32-468d-9f82-5c618fed93ac",
   "metadata": {},
   "outputs": [
    {
     "name": "stdout",
     "output_type": "stream",
     "text": [
      "{1, 2, 3, 4}\n",
      "{1, 2, 3, 4, 5, 6}\n"
     ]
    }
   ],
   "source": [
    "my_set = {1, 2, 3}\n",
    "my_set.add(4)\n",
    "print(my_set)  # Output: {1, 2, 3, 4}\n",
    "\n",
    "my_set.update([4,1, 5, 6])\n",
    "print(my_set)  # Ou"
   ]
  },
  {
   "cell_type": "code",
   "execution_count": 115,
   "id": "9297a135-c6d0-4369-9583-0ea152cb4797",
   "metadata": {
    "tags": []
   },
   "outputs": [
    {
     "name": "stdout",
     "output_type": "stream",
     "text": [
      "Requirement already satisfied: scikit-learn in /home/ngoc/anaconda3/envs/py37/lib/python3.7/site-packages (1.0.2)\n",
      "Requirement already satisfied: threadpoolctl>=2.0.0 in /home/ngoc/anaconda3/envs/py37/lib/python3.7/site-packages (from scikit-learn) (3.1.0)\n",
      "Requirement already satisfied: numpy>=1.14.6 in /home/ngoc/anaconda3/envs/py37/lib/python3.7/site-packages (from scikit-learn) (1.21.6)\n",
      "Requirement already satisfied: scipy>=1.1.0 in /home/ngoc/anaconda3/envs/py37/lib/python3.7/site-packages (from scikit-learn) (1.7.3)\n",
      "Requirement already satisfied: joblib>=0.11 in /home/ngoc/anaconda3/envs/py37/lib/python3.7/site-packages (from scikit-learn) (1.3.1)\n"
     ]
    }
   ],
   "source": [
    "!pip install scikit-learn"
   ]
  },
  {
   "cell_type": "code",
   "execution_count": null,
   "id": "f7b52cef-539f-4acb-8d77-80c53b38c1ba",
   "metadata": {},
   "outputs": [],
   "source": []
  }
 ],
 "metadata": {
  "kernelspec": {
   "display_name": "Python 3 (ipykernel)",
   "language": "python",
   "name": "python3"
  },
  "language_info": {
   "codemirror_mode": {
    "name": "ipython",
    "version": 3
   },
   "file_extension": ".py",
   "mimetype": "text/x-python",
   "name": "python",
   "nbconvert_exporter": "python",
   "pygments_lexer": "ipython3",
   "version": "3.7.15"
  }
 },
 "nbformat": 4,
 "nbformat_minor": 5
}
